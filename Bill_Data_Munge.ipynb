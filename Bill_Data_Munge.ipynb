{
 "cells": [
  {
   "cell_type": "code",
   "execution_count": 33,
   "metadata": {
    "collapsed": true
   },
   "outputs": [],
   "source": [
    "import glob\n",
    "import json\n",
    "from pprint import pprint\n",
    "import os\n",
    "import csv\n",
    "\n"
   ]
  },
  {
   "cell_type": "code",
   "execution_count": 28,
   "metadata": {
    "collapsed": true
   },
   "outputs": [],
   "source": [
    "outfile = '/Users/alexanderfurnas/Projects/Maplight_ideal_points/Bill_Data/us_congress_repo_billdat.csv'\n",
    "headers = [\"congress\", \"bill_id\", \"bill_type\", \"bill_num\", \"introduced_at\", \"first_action_date\", \"last_action_date\"]\n",
    "billfiles = glob.glob('/Users/alexanderfurnas/Projects/Maplight_ideal_points/Bill_Data/*/*/*/data.json')"
   ]
  },
  {
   "cell_type": "code",
   "execution_count": 30,
   "metadata": {
    "collapsed": false
   },
   "outputs": [],
   "source": [
    "bill_data_list = []\n",
    "for billfile in billfiles:\n",
    "    with open(billfile) as data_file:    \n",
    "        data = json.load(data_file)\n",
    "        bill_id = data[\"bill_id\"]\n",
    "        bill_type = data[\"bill_type\"]\n",
    "        bill_num = data[\"number\"]\n",
    "        congress = data[\"congress\"]\n",
    "        introduced_at = data[\"introduced_at\"]\n",
    "        try:\n",
    "            first_action_date = data[\"actions\"][0][\"acted_at\"]\n",
    "        except:\n",
    "            first_action_date = \"NA\"\n",
    "        try:    \n",
    "            last_action_date = data[\"actions\"][-1][\"acted_at\"]\n",
    "        except:\n",
    "            last_action_date = \"NA\"\n",
    "    bill_data = (congress, bill_id, bill_type, bill_num, introduced_at, first_action_date, last_action_date)\n",
    "    bill_data_list.append(bill_data)\n",
    "    \n"
   ]
  },
  {
   "cell_type": "code",
   "execution_count": 34,
   "metadata": {
    "collapsed": false
   },
   "outputs": [],
   "source": [
    "with open(outfile,'wb') as out:\n",
    "    csv_out=csv.writer(out)\n",
    "    csv_out.writerow(headers)\n",
    "    for bd in bill_data_list:\n",
    "        csv_out.writerow(bd)"
   ]
  },
  {
   "cell_type": "code",
   "execution_count": null,
   "metadata": {
    "collapsed": true
   },
   "outputs": [],
   "source": []
  }
 ],
 "metadata": {
  "kernelspec": {
   "display_name": "Python 2",
   "language": "python",
   "name": "python2"
  },
  "language_info": {
   "codemirror_mode": {
    "name": "ipython",
    "version": 2
   },
   "file_extension": ".py",
   "mimetype": "text/x-python",
   "name": "python",
   "nbconvert_exporter": "python",
   "pygments_lexer": "ipython2",
   "version": "2.7.13"
  }
 },
 "nbformat": 4,
 "nbformat_minor": 0
}
