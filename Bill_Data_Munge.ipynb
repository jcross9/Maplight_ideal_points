{
 "cells": [
  {
   "cell_type": "code",
   "execution_count": 20,
   "metadata": {
    "collapsed": true
   },
   "outputs": [],
   "source": [
    "import glob\n",
    "import json\n",
    "from pprint import pprint\n",
    "import os\n",
    "import unicodecsv as csv\n",
    "\n"
   ]
  },
  {
   "cell_type": "code",
   "execution_count": 2,
   "metadata": {
    "collapsed": true
   },
   "outputs": [],
   "source": [
    "outfile = '/Users/alexanderfurnas/Projects/Maplight_ideal_points/Bill_Data/us_congress_repo_billdat.csv'\n",
    "headers = [\"congress\", \"bill_id\", \"bill_type\", \"bill_num\", \"introduced_at\", \"first_action_date\", \"last_action_date\"]\n",
    "billfiles = glob.glob('/Users/alexanderfurnas/Projects/Maplight_ideal_points/Bill_Data/*/*/*/data.json')"
   ]
  },
  {
   "cell_type": "markdown",
   "metadata": {},
   "source": [
    "Use the code below to generate the set of bill data that we want. This can be modified later to pull different things from the bill jsons while we iterate"
   ]
  },
  {
   "cell_type": "code",
   "execution_count": 30,
   "metadata": {
    "collapsed": false
   },
   "outputs": [],
   "source": [
    "bill_data_list = []\n",
    "for billfile in billfiles:\n",
    "    with open(billfile) as data_file:    \n",
    "        data = json.load(data_file)\n",
    "        bill_id = data[\"bill_id\"]\n",
    "        bill_type = data[\"bill_type\"]\n",
    "        bill_num = data[\"number\"]\n",
    "        congress = data[\"congress\"]\n",
    "        introduced_at = data[\"introduced_at\"]\n",
    "        try:\n",
    "            first_action_date = data[\"actions\"][0][\"acted_at\"]\n",
    "        except:\n",
    "            first_action_date = \"NA\"\n",
    "        try:    \n",
    "            last_action_date = data[\"actions\"][-1][\"acted_at\"]\n",
    "        except:\n",
    "            last_action_date = \"NA\"\n",
    "    bill_data = (congress, bill_id, bill_type, bill_num, introduced_at, first_action_date, last_action_date)\n",
    "    bill_data_list.append(bill_data)\n",
    "    \n"
   ]
  },
  {
   "cell_type": "code",
   "execution_count": 34,
   "metadata": {
    "collapsed": false
   },
   "outputs": [],
   "source": [
    "with open(outfile,'wb') as out:\n",
    "    csv_out=csv.writer(out)\n",
    "    csv_out.writerow(headers)\n",
    "    for bd in bill_data_list:\n",
    "        csv_out.writerow(bd)"
   ]
  },
  {
   "cell_type": "markdown",
   "metadata": {
    "collapsed": true
   },
   "source": [
    "Lets use an iterator to get a full list of all actions that occur in the dataset"
   ]
  },
  {
   "cell_type": "code",
   "execution_count": 14,
   "metadata": {
    "collapsed": false
   },
   "outputs": [],
   "source": [
    "act_dat_list = []\n",
    "types = []\n",
    "texts = []\n",
    "for billfile in billfiles:\n",
    "    with open(billfile) as data_file:\n",
    "        data = json.load(data_file)\n",
    "        for acts in data[\"actions\"]:\n",
    "            a_type = acts['type']\n",
    "            types.append(a_type)\n",
    "            text = acts['text']\n",
    "            texts.append(text)\n",
    "            act_dat = (a_type, text)\n",
    "            act_dat_list.append(act_dat)\n",
    "        \n",
    "act_dat_list = list(set(act_dat_list))\n",
    "types = list(set(types))\n",
    "texts = list(set(texts))"
   ]
  },
  {
   "cell_type": "code",
   "execution_count": 15,
   "metadata": {
    "collapsed": false
   },
   "outputs": [
    {
     "name": "stdout",
     "output_type": "stream",
     "text": [
      "36016\n",
      "11\n",
      "35994\n"
     ]
    }
   ],
   "source": [
    "print(len(act_dat_list))\n",
    "print(len(types))\n",
    "print(len(texts))"
   ]
  },
  {
   "cell_type": "code",
   "execution_count": 22,
   "metadata": {
    "collapsed": false
   },
   "outputs": [],
   "source": [
    "with open('/Users/alexanderfurnas/Projects/Maplight_ideal_points/Bill_Data/actions.csv','wb') as out:\n",
    "    csv_out=csv.writer(out, dialect='excel', encoding='utf-8')\n",
    "    csv_out.writerow([\"action\", \"text\"])\n",
    "    for d in act_dat_list:\n",
    "        csv_out.writerow(d)"
   ]
  },
  {
   "cell_type": "code",
   "execution_count": 23,
   "metadata": {
    "collapsed": false
   },
   "outputs": [
    {
     "data": {
      "text/plain": [
       "[u'vetoed',\n",
       " u'hearings',\n",
       " u'vote-aux',\n",
       " u'reported',\n",
       " u'signed',\n",
       " u'vote',\n",
       " u'action',\n",
       " u'calendar',\n",
       " u'referral',\n",
       " u'topresident',\n",
       " u'enacted']"
      ]
     },
     "execution_count": 23,
     "metadata": {},
     "output_type": "execute_result"
    }
   ],
   "source": [
    "types"
   ]
  },
  {
   "cell_type": "code",
   "execution_count": null,
   "metadata": {
    "collapsed": true
   },
   "outputs": [],
   "source": []
  }
 ],
 "metadata": {
  "kernelspec": {
   "display_name": "Python 2",
   "language": "python",
   "name": "python2"
  },
  "language_info": {
   "codemirror_mode": {
    "name": "ipython",
    "version": 2
   },
   "file_extension": ".py",
   "mimetype": "text/x-python",
   "name": "python",
   "nbconvert_exporter": "python",
   "pygments_lexer": "ipython2",
   "version": "2.7.13"
  }
 },
 "nbformat": 4,
 "nbformat_minor": 0
}
